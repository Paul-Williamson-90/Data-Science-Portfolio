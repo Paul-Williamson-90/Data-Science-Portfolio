{
 "cells": [
  {
   "cell_type": "code",
   "execution_count": 4,
   "id": "fb46337a",
   "metadata": {},
   "outputs": [],
   "source": [
    "import numpy as np\n",
    "import matplotlib.pyplot as plt"
   ]
  },
  {
   "cell_type": "markdown",
   "id": "d6ded53c",
   "metadata": {},
   "source": [
    "# Kernel trick by adding a dimension\n",
    "\n",
    "Taking 1 dimensional data (X1) and using a function to map the data into 2 dimensional space (X2)\n",
    "\n",
    "In the first graph you can see the data is not seperable by a single line\n",
    "\n",
    "After transformation, you can separate the two classes, as seen in the 2nd graph"
   ]
  },
  {
   "cell_type": "code",
   "execution_count": 15,
   "id": "6434b5fd",
   "metadata": {},
   "outputs": [
    {
     "data": {
      "text/plain": [
       "array([ 1,  2,  3,  4,  5,  6,  7,  8,  9, 10])"
      ]
     },
     "execution_count": 15,
     "metadata": {},
     "output_type": "execute_result"
    }
   ],
   "source": [
    "X1 = np.array((1,2,3,4,5,6,7,8,9,10))\n",
    "y1 = np.array((0,0,0,1,1,1,1,0,0,0))\n",
    "X1 # one dimensional data"
   ]
  },
  {
   "cell_type": "code",
   "execution_count": 16,
   "id": "daffb4af",
   "metadata": {},
   "outputs": [
    {
     "data": {
      "image/png": "[encoded data removed]",
      "text/plain": [
       "<Figure size 432x288 with 1 Axes>"
      ]
     },
     "metadata": {
      "needs_background": "light"
     },
     "output_type": "display_data"
    }
   ],
   "source": [
    "plt.scatter([x for (x,y) in zip(X1,y1) if y == 0],[0 for (x,y) in zip(X1,y1) if y == 0],color='red')\n",
    "plt.scatter([x for (x,y) in zip(X1,y1) if y == 1],[0 for (x,y) in zip(X1,y1) if y == 1],color='blue')\n",
    "plt.show();"
   ]
  },
  {
   "cell_type": "code",
   "execution_count": 20,
   "id": "0e5f8847",
   "metadata": {},
   "outputs": [
    {
     "data": {
      "text/plain": [
       "array([2.20909091, 1.33636364, 0.68181818, 0.24545455, 0.02727273,\n",
       "       0.02727273, 0.24545455, 0.68181818, 1.33636364, 2.20909091])"
      ]
     },
     "execution_count": 20,
     "metadata": {},
     "output_type": "execute_result"
    }
   ],
   "source": [
    "# Standardise the data centering around 0\n",
    "X1_mean = sum(X1)/len(X1)\n",
    "X1_std = np.sqrt(sum([(x-X1_mean)**2 for x in X1])/(len(X1)-1))\n",
    "X1 = [(x-X1_mean)/X1_std for x in X1]\n",
    "# Create 2nd dimension\n",
    "X2 = np.array([x**2 for x in X1])\n",
    "X2"
   ]
  },
  {
   "cell_type": "code",
   "execution_count": 25,
   "id": "b44d2eb6",
   "metadata": {},
   "outputs": [
    {
     "data": {
      "image/png": "[encoded data removed]",
      "text/plain": [
       "<Figure size 432x288 with 1 Axes>"
      ]
     },
     "metadata": {
      "needs_background": "light"
     },
     "output_type": "display_data"
    }
   ],
   "source": [
    "plt.scatter([x for (x,y) in zip(X1,y1) if y == 0],[x for (x,y) in zip(X2,y1) if y == 0],color='red')\n",
    "plt.scatter([x for (x,y) in zip(X1,y1) if y == 1],[x for (x,y) in zip(X2,y1) if y == 1],color='blue')\n",
    "plt.plot([x/10 for x in range(-15,15)],[0.45for x in range(-15,15)])\n",
    "plt.show();"
   ]
  },
  {
   "cell_type": "markdown",
   "id": "a5de86e2",
   "metadata": {},
   "source": [
    "# Kernel trick into the same dimension (linear)\n",
    "\n",
    "Starts with plotting two dimensional data (X1, X2)\n",
    "\n",
    "Then we apply a linear mapping to create a kernel matrix.\n",
    "\n",
    "The data is then re-plotted"
   ]
  },
  {
   "cell_type": "code",
   "execution_count": 57,
   "id": "2b499ff2",
   "metadata": {},
   "outputs": [
    {
     "data": {
      "image/png": "[encoded data removed]",
      "text/plain": [
       "<Figure size 432x288 with 1 Axes>"
      ]
     },
     "metadata": {
      "needs_background": "light"
     },
     "output_type": "display_data"
    }
   ],
   "source": [
    "X1 = [5.9,6.9,6.6,4.6,6]\n",
    "X2 = [3,3.1,2.9,3.2,2.2]\n",
    "y = [1,0,0,1,1]\n",
    "\n",
    "plt.scatter([x for (x,y) in zip(X1,y)if y == 1],[x for (x,y) in zip(X2,y)if y == 1],color='blue')\n",
    "plt.scatter([x for (x,y) in zip(X1,y)if y == 0],[x for (x,y) in zip(X2,y)if y == 0],color='red')\n",
    "plt.show();"
   ]
  },
  {
   "cell_type": "code",
   "execution_count": 49,
   "id": "c6b03048",
   "metadata": {},
   "outputs": [
    {
     "data": {
      "text/plain": [
       "array([[43.81, 50.01, 47.64, 36.74, 42.  ],\n",
       "       [50.01, 57.22, 54.53, 41.66, 48.22],\n",
       "       [47.64, 54.53, 51.97, 39.64, 45.98],\n",
       "       [36.74, 41.66, 39.64, 31.4 , 34.64],\n",
       "       [42.  , 48.22, 45.98, 34.64, 40.84]])"
      ]
     },
     "execution_count": 49,
     "metadata": {},
     "output_type": "execute_result"
    }
   ],
   "source": [
    "K_matrix = np.zeros((len(X1),len(X1)))\n",
    "for i in range(0,len(X1)):\n",
    "    for k in range(0,len(X1)):\n",
    "        K_matrix[i,k] = X1[i]*X1[k]+X2[i]*X2[k]\n",
    "K_matrix"
   ]
  },
  {
   "cell_type": "code",
   "execution_count": 46,
   "id": "0fe3b634",
   "metadata": {},
   "outputs": [
    {
     "data": {
      "text/plain": [
       "[43.81, 57.220000000000006, 51.97, 31.4, 40.84]"
      ]
     },
     "execution_count": 46,
     "metadata": {},
     "output_type": "execute_result"
    }
   ],
   "source": [
    "diag = [K_matrix[x,x] for x in range(0,len(X1))]\n",
    "diag"
   ]
  },
  {
   "cell_type": "code",
   "execution_count": 55,
   "id": "706cd0ff",
   "metadata": {},
   "outputs": [
    {
     "data": {
      "image/png": "[encoded data removed]",
      "text/plain": [
       "<Figure size 432x288 with 1 Axes>"
      ]
     },
     "metadata": {
      "needs_background": "light"
     },
     "output_type": "display_data"
    }
   ],
   "source": [
    "plt.scatter([x for (x,y) in zip(diag,y) if y == 1],[0 for (x,y) in zip(diag,y) if y == 1],color='blue')\n",
    "plt.scatter([x for (x,y) in zip(diag,y) if y == 0],[0 for (x,y) in zip(diag,y) if y == 0],color='red')\n",
    "plt.plot([48 for x in diag],[x/100 for x in range(-4,6,2)])\n",
    "plt.show();"
   ]
  },
  {
   "cell_type": "markdown",
   "id": "219fee2a",
   "metadata": {},
   "source": [
    "# Quadratic kernel"
   ]
  },
  {
   "cell_type": "code",
   "execution_count": 67,
   "id": "cc21e7c9",
   "metadata": {},
   "outputs": [
    {
     "data": {
      "text/plain": [
       "array([[34.81      ,  9.        , 25.03158005],\n",
       "       [47.61      ,  9.61      , 30.2500281 ],\n",
       "       [43.56      ,  8.41      , 27.06804758],\n",
       "       [21.16      , 10.24      , 20.81722364],\n",
       "       [36.        ,  4.84      , 18.66761902]])"
      ]
     },
     "execution_count": 67,
     "metadata": {},
     "output_type": "execute_result"
    }
   ],
   "source": [
    "quad_matrix = np.array([[x**2,y**2,np.sqrt(2)*x*y]for (x,y) in zip(X1,X2)])\n",
    "quad_matrix"
   ]
  },
  {
   "cell_type": "code",
   "execution_count": 74,
   "id": "77cc82dd",
   "metadata": {},
   "outputs": [
    {
     "data": {
      "image/png": "[encoded data removed]",
      "text/plain": [
       "<Figure size 432x288 with 1 Axes>"
      ]
     },
     "metadata": {
      "needs_background": "light"
     },
     "output_type": "display_data"
    }
   ],
   "source": [
    "plt.scatter(quad_matrix[:,0],quad_matrix[:,1],label='Original 2D data',color='blue')\n",
    "plt.scatter(quad_matrix[:,0],quad_matrix[:,2],label='X1 with new X3',color='red')\n",
    "plt.scatter(quad_matrix[:,1],quad_matrix[:,2],label='X2 with new X3',color='green')\n",
    "plt.legend()\n",
    "plt.show();"
   ]
  },
  {
   "cell_type": "markdown",
   "id": "2cfc57cc",
   "metadata": {},
   "source": [
    "# Mercer kernel\n",
    "\n",
    "1. Input a matrix D of size n x m\n",
    "\n",
    "2. Compute a Kernel matrix K of n x n (linear inner products matrix)\n",
    "\n",
    "3. If K is positive and semi-definite, apply eigenvalue decomposition\n",
    "\n",
    "4. The number of non-zero e-values is the dimensionality\n",
    "\n",
    "5. To apply the new dimensionality, we use Mercer's function phi(M)\n",
    "\n",
    "6. Verify that in the Mercer space, inner products can be mapped back to look-ups in the K matrix (point 2)"
   ]
  },
  {
   "cell_type": "code",
   "execution_count": 75,
   "id": "5660c6ca",
   "metadata": {},
   "outputs": [
    {
     "name": "stdout",
     "output_type": "stream",
     "text": [
      "[5.9, 6.9, 6.6, 4.6, 6]\n",
      "[3, 3.1, 2.9, 3.2, 2.2]\n"
     ]
    }
   ],
   "source": [
    "print(X1)\n",
    "print(X2)"
   ]
  },
  {
   "cell_type": "code",
   "execution_count": 76,
   "id": "81d5587b",
   "metadata": {},
   "outputs": [
    {
     "data": {
      "text/plain": [
       "array([[43.81, 50.01, 47.64, 36.74, 42.  ],\n",
       "       [50.01, 57.22, 54.53, 41.66, 48.22],\n",
       "       [47.64, 54.53, 51.97, 39.64, 45.98],\n",
       "       [36.74, 41.66, 39.64, 31.4 , 34.64],\n",
       "       [42.  , 48.22, 45.98, 34.64, 40.84]])"
      ]
     },
     "execution_count": 76,
     "metadata": {},
     "output_type": "execute_result"
    }
   ],
   "source": [
    "K_matrix = np.zeros((len(X1),len(X1)))\n",
    "for i in range(0,len(X1)):\n",
    "    for k in range(0,len(X1)):\n",
    "        K_matrix[i,k] = X1[i]*X1[k]+X2[i]*X2[k]\n",
    "K_matrix"
   ]
  },
  {
   "cell_type": "code",
   "execution_count": 77,
   "id": "d9716ac3",
   "metadata": {},
   "outputs": [
    {
     "data": {
      "text/plain": [
       "array([[ True,  True,  True,  True,  True],\n",
       "       [ True,  True,  True,  True,  True],\n",
       "       [ True,  True,  True,  True,  True],\n",
       "       [ True,  True,  True,  True,  True],\n",
       "       [ True,  True,  True,  True,  True]])"
      ]
     },
     "execution_count": 77,
     "metadata": {},
     "output_type": "execute_result"
    }
   ],
   "source": [
    "K_matrix >0"
   ]
  },
  {
   "cell_type": "code",
   "execution_count": 241,
   "id": "7fe01755",
   "metadata": {},
   "outputs": [
    {
     "name": "stderr",
     "output_type": "stream",
     "text": [
      "<ipython-input-241-391eb1566b8c>:5: ComplexWarning: Casting complex values to real discards the imaginary part\n",
      "  ev_d_matrix[i,i] = ev_vector[i]\n"
     ]
    },
    {
     "data": {
      "text/plain": [
       "array([[43.81+0.j, 50.01+0.j, 47.64+0.j, 36.74+0.j, 42.  +0.j],\n",
       "       [50.01+0.j, 57.22+0.j, 54.53+0.j, 41.66+0.j, 48.22+0.j],\n",
       "       [47.64+0.j, 54.53+0.j, 51.97+0.j, 39.64+0.j, 45.98+0.j],\n",
       "       [36.74+0.j, 41.66+0.j, 39.64+0.j, 31.4 +0.j, 34.64+0.j],\n",
       "       [42.  +0.j, 48.22+0.j, 45.98+0.j, 34.64+0.j, 40.84+0.j]])"
      ]
     },
     "execution_count": 241,
     "metadata": {},
     "output_type": "execute_result"
    }
   ],
   "source": [
    "eig_pairs = np.linalg.eig(K_matrix)\n",
    "ev_vector = eig_pairs[0][:2] # apparently the first 2 are non-zero and others are zero according to alessandro\n",
    "ev_d_matrix = np.zeros((2,2))\n",
    "for i in range(0,len(ev_vector)):\n",
    "    ev_d_matrix[i,i] = ev_vector[i]\n",
    "U = eig_pairs[1][:,:2]\n",
    "new_K = np.linalg.multi_dot([U,ev_d_matrix,np.transpose(U)])\n",
    "new_K "
   ]
  },
  {
   "cell_type": "code",
   "execution_count": 237,
   "id": "3a226ad8",
   "metadata": {},
   "outputs": [
    {
     "name": "stderr",
     "output_type": "stream",
     "text": [
      "<ipython-input-237-b77c73c38e4b>:3: ComplexWarning: Casting complex values to real discards the imaginary part\n",
      "  M[i,:] = np.dot(np.sqrt(ev_d_matrix),U[i,:])\n"
     ]
    },
    {
     "data": {
      "text/plain": [
       "array([[-6.61632012,  0.18522442],\n",
       "       [-7.56285232, -0.15252815],\n",
       "       [-7.20611148, -0.20483474],\n",
       "       [-5.52710936,  0.92253028],\n",
       "       [-6.36419246, -0.58056383]])"
      ]
     },
     "execution_count": 237,
     "metadata": {},
     "output_type": "execute_result"
    }
   ],
   "source": [
    "M = np.zeros((len(X1),2))\n",
    "for i in range(0,len(X1)):\n",
    "    M[i,:] = np.dot(np.sqrt(ev_d_matrix),U[i,:])\n",
    "M # Mercers Matrix"
   ]
  },
  {
   "cell_type": "code",
   "execution_count": 243,
   "id": "23208523",
   "metadata": {},
   "outputs": [
    {
     "data": {
      "text/plain": [
       "True"
      ]
     },
     "execution_count": 243,
     "metadata": {},
     "output_type": "execute_result"
    }
   ],
   "source": [
    "# Map back to K matrix\n",
    "np.dot(M[0,:],M[1,:]) == new_K[0,1]"
   ]
  },
  {
   "cell_type": "code",
   "execution_count": 244,
   "id": "4c9372ad",
   "metadata": {},
   "outputs": [
    {
     "data": {
      "image/png": "[encoded data removed]",
      "text/plain": [
       "<Figure size 432x288 with 1 Axes>"
      ]
     },
     "metadata": {
      "needs_background": "light"
     },
     "output_type": "display_data"
    }
   ],
   "source": [
    "plt.scatter(M[:,0],M[:,1])\n",
    "plt.show();"
   ]
  }
 ],
 "metadata": {
  "kernelspec": {
   "display_name": "Python 3",
   "language": "python",
   "name": "python3"
  },
  "language_info": {
   "codemirror_mode": {
    "name": "ipython",
    "version": 3
   },
   "file_extension": ".py",
   "mimetype": "text/x-python",
   "name": "python",
   "nbconvert_exporter": "python",
   "pygments_lexer": "ipython3",
   "version": "3.8.10"
  }
 },
 "nbformat": 4,
 "nbformat_minor": 5
}
