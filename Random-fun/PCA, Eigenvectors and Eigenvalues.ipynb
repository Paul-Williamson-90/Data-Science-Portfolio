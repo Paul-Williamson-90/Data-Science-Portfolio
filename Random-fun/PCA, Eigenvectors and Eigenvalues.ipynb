{
 "cells": [
  {
   "cell_type": "code",
   "execution_count": 72,
   "id": "3da58202",
   "metadata": {},
   "outputs": [],
   "source": [
    "import numpy as np\n",
    "import matplotlib.pyplot as plt"
   ]
  },
  {
   "cell_type": "markdown",
   "id": "7a555d78",
   "metadata": {},
   "source": [
    "# Pincipal Components Analysis (without Sklearn)"
   ]
  },
  {
   "cell_type": "code",
   "execution_count": 67,
   "id": "d235ada1",
   "metadata": {},
   "outputs": [
    {
     "data": {
      "text/plain": [
       "array([[0.67070524, 0.07659979],\n",
       "       [0.16565933, 0.25019565],\n",
       "       [0.47534683, 0.42398635],\n",
       "       [0.40896053, 0.71837452],\n",
       "       [0.633326  , 0.36478681],\n",
       "       [0.91977546, 0.16786683],\n",
       "       [0.10434767, 0.23648041],\n",
       "       [0.40732919, 0.70652894],\n",
       "       [0.93670559, 0.62717748],\n",
       "       [0.16393585, 0.13148286],\n",
       "       [0.9064057 , 0.04783674],\n",
       "       [0.51566573, 0.17415568],\n",
       "       [0.49065471, 0.21229126],\n",
       "       [0.9233331 , 0.42656813],\n",
       "       [0.48877764, 0.9853701 ],\n",
       "       [0.02815983, 0.55881624],\n",
       "       [0.74261812, 0.06339286],\n",
       "       [0.37604351, 0.92133609],\n",
       "       [0.73649743, 0.07623449],\n",
       "       [0.58651889, 0.5692749 ]])"
      ]
     },
     "execution_count": 67,
     "metadata": {},
     "output_type": "execute_result"
    }
   ],
   "source": [
    "# create a matrix A\n",
    "A = np.random.rand(20,2)\n",
    "A"
   ]
  },
  {
   "cell_type": "markdown",
   "id": "4a2fd59c",
   "metadata": {},
   "source": [
    "## Step 1: Standardise the data"
   ]
  },
  {
   "cell_type": "code",
   "execution_count": 68,
   "id": "2afa9c47",
   "metadata": {},
   "outputs": [
    {
     "data": {
      "text/plain": [
       "array([[ 0.48729073, -1.06198448],\n",
       "       [-1.31346829, -0.46793509],\n",
       "       [-0.20926657,  0.12678105],\n",
       "       [-0.44596926,  1.13418476],\n",
       "       [ 0.35401375, -0.07580126],\n",
       "       [ 1.37535938, -0.74966637],\n",
       "       [-1.53207716, -0.51486898],\n",
       "       [-0.45178587,  1.09364889],\n",
       "       [ 1.43572436,  0.8221062 ],\n",
       "       [-1.31961341, -0.87417325],\n",
       "       [ 1.32768903, -1.16041237],\n",
       "       [-0.06550811, -0.72814579],\n",
       "       [-0.15468579, -0.59764488],\n",
       "       [ 1.38804428,  0.13561595],\n",
       "       [-0.16137856,  2.04785034],\n",
       "       [-1.80372759,  0.5881723 ],\n",
       "       [ 0.74369866, -1.10717893],\n",
       "       [-0.56333605,  1.82872435],\n",
       "       [ 0.72187511, -1.06323455],\n",
       "       [ 0.18712135,  0.62396211]])"
      ]
     },
     "execution_count": 68,
     "metadata": {},
     "output_type": "execute_result"
    }
   ],
   "source": [
    "def standardise(matrix):\n",
    "    for k in range(0,matrix.shape[1]):\n",
    "        mean = sum([x[k] for x in matrix])/matrix.shape[0]\n",
    "        std = np.sqrt(sum([(x[k]-mean)**2 for x in matrix])/(matrix.shape[0]-1))\n",
    "        for i in range(0,matrix.shape[0]):\n",
    "            matrix[i,k] = (matrix[i,k] - mean) / std\n",
    "    return matrix\n",
    "\n",
    "standard_A = standardise(A)\n",
    "standard_A"
   ]
  },
  {
   "cell_type": "markdown",
   "id": "95c3e961",
   "metadata": {},
   "source": [
    "## Step 2: Construct covariance matrix"
   ]
  },
  {
   "cell_type": "code",
   "execution_count": 69,
   "id": "1bed3f8c",
   "metadata": {},
   "outputs": [
    {
     "data": {
      "text/plain": [
       "array([[ 1.        , -0.20908018],\n",
       "       [-0.20908018,  1.        ]])"
      ]
     },
     "execution_count": 69,
     "metadata": {},
     "output_type": "execute_result"
    }
   ],
   "source": [
    "def covariance(x,y):\n",
    "    x_mean = sum([xi for xi in x])/len(x)\n",
    "    y_mean = sum([yi for yi in y])/len(y)\n",
    "    N = len(x)-1\n",
    "    return sum([(xi-x_mean)*(yi-y_mean) for (xi,yi) in zip(x,y)])/N\n",
    "\n",
    "def covariance_matrix(matrix):\n",
    "    C = np.zeros((matrix.shape[1],matrix.shape[1]))\n",
    "    for k in range(0,matrix.shape[1]):\n",
    "        for i in range(0,matrix.shape[1]):\n",
    "            C[i,k] = covariance(matrix[:,i],matrix[:,k])\n",
    "    return C\n",
    "\n",
    "C = covariance_matrix(standard_A)\n",
    "C"
   ]
  },
  {
   "cell_type": "markdown",
   "id": "80871c2f",
   "metadata": {},
   "source": [
    "## Step 3: Compute the eigenvalues and eigenvectors of the covariance matrix"
   ]
  },
  {
   "cell_type": "code",
   "execution_count": 70,
   "id": "016acb5e",
   "metadata": {},
   "outputs": [
    {
     "name": "stdout",
     "output_type": "stream",
     "text": [
      "[0.79091982 1.20908018]\n",
      "[[-0.70710678  0.70710678]\n",
      " [-0.70710678 -0.70710678]]\n"
     ]
    }
   ],
   "source": [
    "eig_vals, eig_vecs = np.linalg.eig(C)\n",
    "\n",
    "print(eig_vals)\n",
    "print(eig_vecs)"
   ]
  },
  {
   "cell_type": "markdown",
   "id": "56b376f5",
   "metadata": {},
   "source": [
    "## Step 4: Recast the data across the principal component axes"
   ]
  },
  {
   "cell_type": "code",
   "execution_count": 75,
   "id": "2518d94e",
   "metadata": {},
   "outputs": [
    {
     "data": {
      "text/plain": [
       "array([[ 0.40636985,  1.09550301],\n",
       "       [ 1.25964241, -0.59788226],\n",
       "       [ 0.05832607, -0.23762155],\n",
       "       [-0.48664185, -1.11733763],\n",
       "       [-0.19672594,  0.3039251 ],\n",
       "       [-0.44243177,  1.50262012],\n",
       "       [ 1.44740949, -0.7192748 ],\n",
       "       [-0.4538657 , -1.0927874 ],\n",
       "       [-1.5965273 ,  0.43389357],\n",
       "       [ 1.55124142, -0.31497375],\n",
       "       [-0.11828246,  1.75935338],\n",
       "       [ 0.56119806,  0.46855559],\n",
       "       [ 0.53197812,  0.31321938],\n",
       "       [-1.07739048,  0.88560057],\n",
       "       [-1.33393699, -1.56216073],\n",
       "       [ 0.85952739, -1.69132864],\n",
       "       [ 0.25701936,  1.3087681 ],\n",
       "       [-0.89476465, -1.69144213],\n",
       "       [ 0.24137758,  1.26226315],\n",
       "       [-0.57352261, -0.30889307]])"
      ]
     },
     "execution_count": 75,
     "metadata": {},
     "output_type": "execute_result"
    }
   ],
   "source": [
    "PC = np.zeros((A.shape))\n",
    "for i in range(eig_vecs.shape[0]):\n",
    "    PC[:,i] = np.dot(np.transpose(eig_vecs[:,i]),np.transpose(standard_A))\n",
    "PC"
   ]
  }
 ],
 "metadata": {
  "kernelspec": {
   "display_name": "Python 3",
   "language": "python",
   "name": "python3"
  },
  "language_info": {
   "codemirror_mode": {
    "name": "ipython",
    "version": 3
   },
   "file_extension": ".py",
   "mimetype": "text/x-python",
   "name": "python",
   "nbconvert_exporter": "python",
   "pygments_lexer": "ipython3",
   "version": "3.8.10"
  }
 },
 "nbformat": 4,
 "nbformat_minor": 5
}
