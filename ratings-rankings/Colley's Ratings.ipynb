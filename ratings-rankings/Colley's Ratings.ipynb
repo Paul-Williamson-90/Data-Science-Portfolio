{
 "cells": [
  {
   "cell_type": "code",
   "execution_count": 3,
   "id": "c09dfc2d",
   "metadata": {},
   "outputs": [],
   "source": [
    "import pandas as pd\n",
    "import numpy as np"
   ]
  },
  {
   "cell_type": "markdown",
   "id": "9dd88544",
   "metadata": {},
   "source": [
    "# Colley's Rankings"
   ]
  },
  {
   "cell_type": "code",
   "execution_count": 8,
   "id": "6f44c085",
   "metadata": {},
   "outputs": [
    {
     "data": {
      "text/html": [
       "<div>\n",
       "<style scoped>\n",
       "    .dataframe tbody tr th:only-of-type {\n",
       "        vertical-align: middle;\n",
       "    }\n",
       "\n",
       "    .dataframe tbody tr th {\n",
       "        vertical-align: top;\n",
       "    }\n",
       "\n",
       "    .dataframe thead th {\n",
       "        text-align: right;\n",
       "    }\n",
       "</style>\n",
       "<table border=\"1\" class=\"dataframe\">\n",
       "  <thead>\n",
       "    <tr style=\"text-align: right;\">\n",
       "      <th></th>\n",
       "      <th>Duke</th>\n",
       "      <th>Miami</th>\n",
       "      <th>UNC</th>\n",
       "      <th>UVA</th>\n",
       "      <th>VT</th>\n",
       "      <th>Win/Loss</th>\n",
       "      <th>Differentials</th>\n",
       "    </tr>\n",
       "  </thead>\n",
       "  <tbody>\n",
       "    <tr>\n",
       "      <th>Duke</th>\n",
       "      <td>-</td>\n",
       "      <td>7-52</td>\n",
       "      <td>21-24</td>\n",
       "      <td>7-38</td>\n",
       "      <td>0-45</td>\n",
       "      <td>0-4</td>\n",
       "      <td>-124</td>\n",
       "    </tr>\n",
       "    <tr>\n",
       "      <th>Miami</th>\n",
       "      <td>52-7</td>\n",
       "      <td>-</td>\n",
       "      <td>34-16</td>\n",
       "      <td>25-17</td>\n",
       "      <td>27-7</td>\n",
       "      <td>4-0</td>\n",
       "      <td>91</td>\n",
       "    </tr>\n",
       "    <tr>\n",
       "      <th>UNC</th>\n",
       "      <td>24-21</td>\n",
       "      <td>16-34</td>\n",
       "      <td>-</td>\n",
       "      <td>7-5</td>\n",
       "      <td>3-30</td>\n",
       "      <td>2-2</td>\n",
       "      <td>-40</td>\n",
       "    </tr>\n",
       "    <tr>\n",
       "      <th>UVA</th>\n",
       "      <td>38-7</td>\n",
       "      <td>17-25</td>\n",
       "      <td>5-7</td>\n",
       "      <td>-</td>\n",
       "      <td>14-52</td>\n",
       "      <td>1-3</td>\n",
       "      <td>-17</td>\n",
       "    </tr>\n",
       "    <tr>\n",
       "      <th>VT</th>\n",
       "      <td>45-0</td>\n",
       "      <td>7-27</td>\n",
       "      <td>30-3</td>\n",
       "      <td>52-14</td>\n",
       "      <td>-</td>\n",
       "      <td>3-1</td>\n",
       "      <td>90</td>\n",
       "    </tr>\n",
       "  </tbody>\n",
       "</table>\n",
       "</div>"
      ],
      "text/plain": [
       "        Duke  Miami    UNC    UVA     VT Win/Loss  Differentials\n",
       "Duke       -   7-52  21-24   7-38   0-45      0-4           -124\n",
       "Miami   52-7      -  34-16  25-17   27-7      4-0             91\n",
       "UNC    24-21  16-34      -    7-5   3-30      2-2            -40\n",
       "UVA     38-7  17-25    5-7      -  14-52      1-3            -17\n",
       "VT      45-0   7-27   30-3  52-14      -      3-1             90"
      ]
     },
     "execution_count": 8,
     "metadata": {},
     "output_type": "execute_result"
    }
   ],
   "source": [
    "data = {'Duke':['-','52-7','24-21','38-7','45-0'],\n",
    "       'Miami':['7-52','-','16-34','17-25','7-27'],\n",
    "       'UNC':['21-24','34-16','-','5-7','30-3'],\n",
    "       'UVA':['7-38','25-17','7-5','-','52-14'],\n",
    "       'VT':['0-45','27-7','3-30','14-52','-'],\n",
    "       'Win/Loss':['0-4','4-0','2-2','1-3','3-1'],\n",
    "       'Differentials':[-124,91,-40,-17,90]}\n",
    "df = pd.DataFrame(data)\n",
    "df.index = df.columns.values[:-2]\n",
    "df"
   ]
  },
  {
   "cell_type": "markdown",
   "id": "fac8914c",
   "metadata": {},
   "source": [
    "## Building Colley's coefficient table\n",
    "Cr = b (Colley's linear system)\n",
    "\n",
    "Cij = 2+ti for i = j, and -nij for i != j\n",
    "\n",
    "t = total number of games played by team\n",
    "\n",
    "n = total number of times teams i and j played against each other\n",
    "\n",
    "bi = 1 + 1/2 (wi − li)"
   ]
  },
  {
   "cell_type": "code",
   "execution_count": 15,
   "id": "ac658c3b",
   "metadata": {},
   "outputs": [
    {
     "data": {
      "text/plain": [
       "array([[ 6., -1., -1., -1., -1.],\n",
       "       [-1.,  6., -1., -1., -1.],\n",
       "       [-1., -1.,  6., -1., -1.],\n",
       "       [-1., -1., -1.,  6., -1.],\n",
       "       [-1., -1., -1., -1.,  6.]])"
      ]
     },
     "execution_count": 15,
     "metadata": {},
     "output_type": "execute_result"
    }
   ],
   "source": [
    "C = np.zeros(shape=(len(df.index),len(df.index)))\n",
    "for i,row in enumerate(C):\n",
    "    for j,col in enumerate(row):\n",
    "        if i == j:\n",
    "            C[i,j] = 2 + len(C[:,j])-1\n",
    "        else:\n",
    "            C[i,j] = -1\n",
    "C"
   ]
  },
  {
   "cell_type": "code",
   "execution_count": 16,
   "id": "1be94606",
   "metadata": {},
   "outputs": [
    {
     "data": {
      "text/plain": [
       "['r1', 'r2', 'r3', 'r4', 'r5']"
      ]
     },
     "execution_count": 16,
     "metadata": {},
     "output_type": "execute_result"
    }
   ],
   "source": [
    "r = ['r1','r2','r3','r4','r5']\n",
    "r"
   ]
  },
  {
   "cell_type": "code",
   "execution_count": 18,
   "id": "1f8b24c7",
   "metadata": {},
   "outputs": [
    {
     "data": {
      "text/plain": [
       "[-1.0, 3.0, 1.0, 0.0, 2.0]"
      ]
     },
     "execution_count": 18,
     "metadata": {},
     "output_type": "execute_result"
    }
   ],
   "source": [
    "b = [1+0.5*(int(x.split('-')[0])-int(x.split('-')[1]))for x in df['Win/Loss'].values]\n",
    "b"
   ]
  },
  {
   "cell_type": "markdown",
   "id": "4c8a691a",
   "metadata": {},
   "source": [
    "## Solving r"
   ]
  },
  {
   "cell_type": "code",
   "execution_count": 19,
   "id": "84a60587",
   "metadata": {},
   "outputs": [
    {
     "data": {
      "text/plain": [
       "array([0.21428571, 0.78571429, 0.5       , 0.35714286, 0.64285714])"
      ]
     },
     "execution_count": 19,
     "metadata": {},
     "output_type": "execute_result"
    }
   ],
   "source": [
    "r = np.linalg.solve(C,b)\n",
    "r"
   ]
  },
  {
   "cell_type": "markdown",
   "id": "12b45c16",
   "metadata": {},
   "source": [
    "## Putting it together"
   ]
  },
  {
   "cell_type": "code",
   "execution_count": 21,
   "id": "01529a58",
   "metadata": {},
   "outputs": [
    {
     "data": {
      "text/html": [
       "<div>\n",
       "<style scoped>\n",
       "    .dataframe tbody tr th:only-of-type {\n",
       "        vertical-align: middle;\n",
       "    }\n",
       "\n",
       "    .dataframe tbody tr th {\n",
       "        vertical-align: top;\n",
       "    }\n",
       "\n",
       "    .dataframe thead th {\n",
       "        text-align: right;\n",
       "    }\n",
       "</style>\n",
       "<table border=\"1\" class=\"dataframe\">\n",
       "  <thead>\n",
       "    <tr style=\"text-align: right;\">\n",
       "      <th></th>\n",
       "      <th>Duke</th>\n",
       "      <th>Miami</th>\n",
       "      <th>UNC</th>\n",
       "      <th>UVA</th>\n",
       "      <th>VT</th>\n",
       "      <th>Win/Loss</th>\n",
       "      <th>Differentials</th>\n",
       "      <th>Ratings</th>\n",
       "    </tr>\n",
       "  </thead>\n",
       "  <tbody>\n",
       "    <tr>\n",
       "      <th>Duke</th>\n",
       "      <td>-</td>\n",
       "      <td>7-52</td>\n",
       "      <td>21-24</td>\n",
       "      <td>7-38</td>\n",
       "      <td>0-45</td>\n",
       "      <td>0-4</td>\n",
       "      <td>-124</td>\n",
       "      <td>0.214286</td>\n",
       "    </tr>\n",
       "    <tr>\n",
       "      <th>Miami</th>\n",
       "      <td>52-7</td>\n",
       "      <td>-</td>\n",
       "      <td>34-16</td>\n",
       "      <td>25-17</td>\n",
       "      <td>27-7</td>\n",
       "      <td>4-0</td>\n",
       "      <td>91</td>\n",
       "      <td>0.785714</td>\n",
       "    </tr>\n",
       "    <tr>\n",
       "      <th>UNC</th>\n",
       "      <td>24-21</td>\n",
       "      <td>16-34</td>\n",
       "      <td>-</td>\n",
       "      <td>7-5</td>\n",
       "      <td>3-30</td>\n",
       "      <td>2-2</td>\n",
       "      <td>-40</td>\n",
       "      <td>0.500000</td>\n",
       "    </tr>\n",
       "    <tr>\n",
       "      <th>UVA</th>\n",
       "      <td>38-7</td>\n",
       "      <td>17-25</td>\n",
       "      <td>5-7</td>\n",
       "      <td>-</td>\n",
       "      <td>14-52</td>\n",
       "      <td>1-3</td>\n",
       "      <td>-17</td>\n",
       "      <td>0.357143</td>\n",
       "    </tr>\n",
       "    <tr>\n",
       "      <th>VT</th>\n",
       "      <td>45-0</td>\n",
       "      <td>7-27</td>\n",
       "      <td>30-3</td>\n",
       "      <td>52-14</td>\n",
       "      <td>-</td>\n",
       "      <td>3-1</td>\n",
       "      <td>90</td>\n",
       "      <td>0.642857</td>\n",
       "    </tr>\n",
       "  </tbody>\n",
       "</table>\n",
       "</div>"
      ],
      "text/plain": [
       "        Duke  Miami    UNC    UVA     VT Win/Loss  Differentials   Ratings\n",
       "Duke       -   7-52  21-24   7-38   0-45      0-4           -124  0.214286\n",
       "Miami   52-7      -  34-16  25-17   27-7      4-0             91  0.785714\n",
       "UNC    24-21  16-34      -    7-5   3-30      2-2            -40  0.500000\n",
       "UVA     38-7  17-25    5-7      -  14-52      1-3            -17  0.357143\n",
       "VT      45-0   7-27   30-3  52-14      -      3-1             90  0.642857"
      ]
     },
     "execution_count": 21,
     "metadata": {},
     "output_type": "execute_result"
    }
   ],
   "source": [
    "df['Ratings'] = r\n",
    "df"
   ]
  }
 ],
 "metadata": {
  "kernelspec": {
   "display_name": "Python 3",
   "language": "python",
   "name": "python3"
  },
  "language_info": {
   "codemirror_mode": {
    "name": "ipython",
    "version": 3
   },
   "file_extension": ".py",
   "mimetype": "text/x-python",
   "name": "python",
   "nbconvert_exporter": "python",
   "pygments_lexer": "ipython3",
   "version": "3.8.10"
  }
 },
 "nbformat": 4,
 "nbformat_minor": 5
}
