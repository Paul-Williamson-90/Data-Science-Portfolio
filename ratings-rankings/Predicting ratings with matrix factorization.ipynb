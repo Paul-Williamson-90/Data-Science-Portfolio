{
 "cells": [
  {
   "cell_type": "code",
   "execution_count": 11,
   "id": "24251ff4",
   "metadata": {},
   "outputs": [],
   "source": [
    "import numpy as np"
   ]
  },
  {
   "cell_type": "markdown",
   "id": "18e7c75e",
   "metadata": {},
   "source": [
    "# Matrix Factorization to predict user ratings\n",
    "\n",
    "Ratings matrix R is of size U x D (U = number of users, D = number of items to be rated). It is a sparse matrix, as it contains 0 values where the user has not seen/rated the film.\n",
    "\n",
    "\n",
    "The goal is to discover K latent features, and also predict what users might rate the films they haven't rated/seen, as part of a recommendation system.\n",
    "\n",
    "\n",
    "Given two input matrix P and Q, these are used to generate a predicted R which will include predicted ratings for films Users haven't rated yet, based on their ratings for other films and how similar users have rated. \n",
    "\n",
    "The predicted R is given by P * QT    (QT = transpose of Q)\n",
    "\n",
    "\n",
    "Matrix P describes the relationship between Users (U) and the latent features (K), whilst Q describes the relationship between the Items (D) and the latent features (K).\n",
    "\n",
    "To get P and Q, we initially use two random matrices and calculate the difference of the product named as matrix M. Next, we minimize the difference through the iterations via gradient descent, aiming at finding a local minimum of the difference."
   ]
  },
  {
   "cell_type": "code",
   "execution_count": 4,
   "id": "abe3a369",
   "metadata": {},
   "outputs": [
    {
     "data": {
      "text/plain": [
       "array([[5, 3, 0, 1],\n",
       "       [4, 0, 0, 1],\n",
       "       [1, 1, 0, 5],\n",
       "       [1, 0, 0, 4],\n",
       "       [0, 1, 5, 4],\n",
       "       [2, 1, 3, 0]])"
      ]
     },
     "execution_count": 4,
     "metadata": {},
     "output_type": "execute_result"
    }
   ],
   "source": [
    "# R = ratings matrix, 1 row per user, 1 column per film\n",
    "R = np.array([[5,3,0,1],[4,0,0,1],[1,1,0,5],[1,0,0,4],[0,1,5,4],[2,1,3,0]])\n",
    "R"
   ]
  },
  {
   "cell_type": "code",
   "execution_count": 12,
   "id": "2d9a2271",
   "metadata": {},
   "outputs": [],
   "source": [
    "# N: num of users\n",
    "N = len(R)\n",
    "# M: num of movies\n",
    "M = len(R[0])\n",
    "# Num of latent features we wish to extract\n",
    "K = 3"
   ]
  },
  {
   "cell_type": "code",
   "execution_count": 9,
   "id": "abd1438a",
   "metadata": {},
   "outputs": [
    {
     "data": {
      "text/plain": [
       "array([[0.41067286, 0.01891435, 0.4211022 ],\n",
       "       [0.15315099, 0.26225727, 0.34055238],\n",
       "       [0.62798413, 0.93512398, 0.6207347 ],\n",
       "       [0.90677761, 0.56752736, 0.24975471],\n",
       "       [0.3758472 , 0.39893089, 0.24137131],\n",
       "       [0.08558703, 0.70307224, 0.34520321]])"
      ]
     },
     "execution_count": 9,
     "metadata": {},
     "output_type": "execute_result"
    }
   ],
   "source": [
    "# Generating initial random P and Q\n",
    "P = np.random.rand(N,K) # matrix size num_users x k_features \n",
    "Q = np.random.rand(M,K) # matrix size num_items x k_features\n",
    "P"
   ]
  },
  {
   "cell_type": "code",
   "execution_count": 10,
   "id": "624b1f6e",
   "metadata": {},
   "outputs": [
    {
     "data": {
      "text/plain": [
       "array([[0.99003188, 0.34198183, 0.41385981],\n",
       "       [0.1622492 , 0.79172852, 0.8654075 ],\n",
       "       [0.07119679, 0.01047612, 0.82638045],\n",
       "       [0.63041557, 0.53906891, 0.58856663]])"
      ]
     },
     "execution_count": 10,
     "metadata": {},
     "output_type": "execute_result"
    }
   ],
   "source": [
    "Q"
   ]
  },
  {
   "cell_type": "code",
   "execution_count": 14,
   "id": "5443bb33",
   "metadata": {},
   "outputs": [],
   "source": [
    "# Creating a gradient descent process to find optimal P and Q\n",
    "def matrix_factorization(R, P, Q, K, steps=5000, alpha=0.0002, beta=0.02):\n",
    "    '''\n",
    "    R: rating matrix\n",
    "    P: |U| * K (User features matrix)\n",
    "    Q: |D| * K (Item features matrix)\n",
    "    K: latent features\n",
    "    steps: iterations\n",
    "    alpha: learning rate\n",
    "    beta: regularization parameter'''\n",
    "    Q = Q.T #transpose of Q\n",
    "    for step in range(steps):\n",
    "        for i in range(len(R)): \n",
    "            for j in range(len(R[i])):\n",
    "                if R[i][j] > 0:\n",
    "                    # calculate error\n",
    "                    eij = R[i][j] - np.dot(P[i,:],Q[:,j])\n",
    "                    for k in range(K):\n",
    "                        # calculate gradient with a and beta parameter\n",
    "                        P[i][k] = P[i][k] + alpha * (2 * eij * Q[k][j] - beta * P[i][k])\n",
    "                        Q[k][j] = Q[k][j] + alpha * (2 * eij * P[i][k] - beta * Q[k][j])\n",
    "        eR = np.dot(P,Q)\n",
    "        e = 0\n",
    "        for i in range(len(R)):\n",
    "            for j in range(len(R[i])):\n",
    "                if R[i][j] > 0:\n",
    "                    e = e + pow(R[i][j] - np.dot(P[i,:],Q[:,j]), 2)\n",
    "                    for k in range(K):\n",
    "                        e = e + (beta/2) * (pow(P[i][k],2) + pow(Q[k][j],2))\n",
    "        # 0.001: local minimum\n",
    "        if e < 0.001:\n",
    "            break\n",
    "    return P, Q.T"
   ]
  },
  {
   "cell_type": "code",
   "execution_count": 16,
   "id": "35dfe7d4",
   "metadata": {},
   "outputs": [
    {
     "data": {
      "text/plain": [
       "array([[5.00017199, 2.92635025, 5.24977768, 1.00104532],\n",
       "       [3.9766888 , 2.15160266, 3.83322088, 0.9986938 ],\n",
       "       [1.05501736, 0.87049605, 5.32103121, 4.96578725],\n",
       "       [0.98601173, 0.52442957, 3.67562184, 3.97771972],\n",
       "       [1.5735104 , 1.12241437, 4.94244536, 4.01327711],\n",
       "       [1.91403333, 1.11865491, 2.99959296, 1.73161264]])"
      ]
     },
     "execution_count": 16,
     "metadata": {},
     "output_type": "execute_result"
    }
   ],
   "source": [
    "# Perform matrix factorization to get the optimum P and Q matrices\n",
    "nP, nQ = matrix_factorization(R, P, Q, K)\n",
    "# Predicted R is the dot product of P and the transpose of Q\n",
    "nR = np.dot(nP, nQ.T)\n",
    "nR"
   ]
  },
  {
   "cell_type": "code",
   "execution_count": 18,
   "id": "ccb045d3",
   "metadata": {},
   "outputs": [
    {
     "data": {
      "text/plain": [
       "array([[5, 3, 0, 1],\n",
       "       [4, 0, 0, 1],\n",
       "       [1, 1, 0, 5],\n",
       "       [1, 0, 0, 4],\n",
       "       [0, 1, 5, 4],\n",
       "       [2, 1, 3, 0]])"
      ]
     },
     "execution_count": 18,
     "metadata": {},
     "output_type": "execute_result"
    }
   ],
   "source": [
    "R # original ratings to compare against predicted"
   ]
  }
 ],
 "metadata": {
  "kernelspec": {
   "display_name": "Python 3",
   "language": "python",
   "name": "python3"
  },
  "language_info": {
   "codemirror_mode": {
    "name": "ipython",
    "version": 3
   },
   "file_extension": ".py",
   "mimetype": "text/x-python",
   "name": "python",
   "nbconvert_exporter": "python",
   "pygments_lexer": "ipython3",
   "version": "3.8.10"
  }
 },
 "nbformat": 4,
 "nbformat_minor": 5
}
